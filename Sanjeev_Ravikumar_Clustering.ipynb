{
  "cells": [
    {
      "cell_type": "markdown",
      "metadata": {
        "id": "view-in-github",
        "colab_type": "text"
      },
      "source": [
        "<a href=\"https://colab.research.google.com/github/SanjeevRSRK/Sanjeev_Ravikumar_Clustering/blob/main/Sanjeev_Ravikumar_Clustering.ipynb\" target=\"_parent\"><img src=\"https://colab.research.google.com/assets/colab-badge.svg\" alt=\"Open In Colab\"/></a>"
      ]
    },
    {
      "cell_type": "markdown",
      "metadata": {
        "id": "Y7I9kZP1NRX8"
      },
      "source": [
        "**TASK 3 (CLUSTERING)**"
      ]
    },
    {
      "cell_type": "code",
      "execution_count": null,
      "metadata": {
        "id": "624gVcmrMvEw"
      },
      "outputs": [],
      "source": [
        "# Import necessary libraries\n",
        "import pandas as pd\n",
        "from sklearn.preprocessing import LabelEncoder, MinMaxScaler\n",
        "from sklearn.metrics.pairwise import cosine_similarity\n",
        "from datetime import datetime"
      ]
    },
    {
      "cell_type": "code",
      "execution_count": null,
      "metadata": {
        "id": "NLsK52mKNEPc"
      },
      "outputs": [],
      "source": [
        "# Load datasets\n",
        "customers = pd.read_csv(\"Customers.csv\")\n",
        "products = pd.read_csv(\"Products.csv\")\n",
        "transactions = pd.read_csv(\"Transactions.csv\")"
      ]
    },
    {
      "cell_type": "code",
      "execution_count": null,
      "metadata": {
        "id": "xk-hlGI3Nd2C"
      },
      "outputs": [],
      "source": [
        "# Merge datasets\n",
        "merged_data = transactions.merge(customers, on=\"CustomerID\").merge(products, on=\"ProductID\")\n",
        "merged_data.rename(columns={'Price_y': 'Price'}, inplace=True)"
      ]
    },
    {
      "cell_type": "code",
      "execution_count": null,
      "metadata": {
        "id": "7JlSVebrNETS"
      },
      "outputs": [],
      "source": [
        "# Convert TransactionDate to datetime\n",
        "merged_data['TransactionDate'] = pd.to_datetime(merged_data['TransactionDate'])"
      ]
    },
    {
      "cell_type": "code",
      "execution_count": null,
      "metadata": {
        "id": "Lhx9unzRNEW_"
      },
      "outputs": [],
      "source": [
        "\n",
        "# Current date for recency calculation\n",
        "current_date = datetime.now()"
      ]
    },
    {
      "cell_type": "code",
      "execution_count": null,
      "metadata": {
        "id": "kj13A5ULNEal"
      },
      "outputs": [],
      "source": [
        "# Aggregate features for customer profiles\n",
        "customer_profiles = merged_data.groupby('CustomerID').agg({\n",
        "    'Region': 'first',\n",
        "    'Price': 'mean',\n",
        "    'Quantity': 'sum',\n",
        "    'TotalValue': 'sum',\n",
        "    'TransactionDate': lambda x: (current_date - x.max()).days,\n",
        "    'Category': 'nunique'\n",
        "}).reset_index()\n"
      ]
    },
    {
      "cell_type": "code",
      "execution_count": null,
      "metadata": {
        "id": "HItXJjTxNEd9"
      },
      "outputs": [],
      "source": [
        "# Rename TransactionDate to Recency\n",
        "customer_profiles.rename(columns={'TransactionDate': 'Recency'}, inplace=True)"
      ]
    },
    {
      "cell_type": "code",
      "execution_count": null,
      "metadata": {
        "id": "JX7KB-g6NEiD"
      },
      "outputs": [],
      "source": [
        "# ----> Encode 'Region' column before scaling <----\n",
        "le_region = LabelEncoder()\n",
        "customer_profiles['Region'] = le_region.fit_transform(customer_profiles['Region'])"
      ]
    },
    {
      "cell_type": "code",
      "execution_count": null,
      "metadata": {
        "id": "Rb-GkEBRNEmE"
      },
      "outputs": [],
      "source": [
        "# Normalize features\n",
        "scaler = MinMaxScaler()\n",
        "normalized_features = scaler.fit_transform(customer_profiles.iloc[:, 1:]) # Exclude CustomerID"
      ]
    },
    {
      "cell_type": "code",
      "execution_count": null,
      "metadata": {
        "id": "sEcL3bduNEpc"
      },
      "outputs": [],
      "source": [
        "# Calculate cosine similarity\n",
        "similarity_matrix = cosine_similarity(normalized_features)\n",
        "similarity_df = pd.DataFrame(\n",
        "    similarity_matrix,\n",
        "    index=customer_profiles['CustomerID'],\n",
        "    columns=customer_profiles['CustomerID']\n",
        ")"
      ]
    },
    {
      "cell_type": "markdown",
      "metadata": {
        "id": "XmsdO9ASOFTC"
      },
      "source": [
        "**SMALL CHANGES (CORRECT CODE)**"
      ]
    },
    {
      "cell_type": "code",
      "execution_count": null,
      "metadata": {
        "id": "yw1n9HnjNEtF"
      },
      "outputs": [],
      "source": [
        "# Import necessary libraries\n",
        "import pandas as pd\n",
        "from sklearn.preprocessing import LabelEncoder, MinMaxScaler\n",
        "from sklearn.cluster import KMeans\n",
        "from sklearn.metrics import davies_bouldin_score\n",
        "import matplotlib.pyplot as plt\n",
        "import seaborn as sns"
      ]
    },
    {
      "cell_type": "code",
      "execution_count": null,
      "metadata": {
        "id": "fpCxfXyrNE1x"
      },
      "outputs": [],
      "source": []
    },
    {
      "cell_type": "code",
      "execution_count": null,
      "metadata": {
        "colab": {
          "background_save": true
        },
        "id": "d6gHBHdaNE8i"
      },
      "outputs": [],
      "source": []
    },
    {
      "cell_type": "code",
      "execution_count": null,
      "metadata": {
        "id": "sru1khzNNE_W"
      },
      "outputs": [],
      "source": []
    },
    {
      "cell_type": "code",
      "execution_count": null,
      "metadata": {
        "id": "p_gwiHTONFCk"
      },
      "outputs": [],
      "source": []
    },
    {
      "cell_type": "code",
      "execution_count": null,
      "metadata": {
        "id": "JyIcUXPUNFGA"
      },
      "outputs": [],
      "source": []
    },
    {
      "cell_type": "code",
      "execution_count": null,
      "metadata": {
        "id": "ZBuNOh85NFJV"
      },
      "outputs": [],
      "source": []
    },
    {
      "cell_type": "code",
      "execution_count": null,
      "metadata": {
        "id": "o68v2D6rNFMH"
      },
      "outputs": [],
      "source": []
    }
  ],
  "metadata": {
    "colab": {
      "provenance": [],
      "authorship_tag": "ABX9TyM8MK1SGo/v3SOE3CuZCoSR",
      "include_colab_link": true
    },
    "kernelspec": {
      "display_name": "Python 3",
      "name": "python3"
    },
    "language_info": {
      "name": "python"
    }
  },
  "nbformat": 4,
  "nbformat_minor": 0
}